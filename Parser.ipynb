{
 "cells": [
  {
   "cell_type": "markdown",
   "metadata": {},
   "source": [
    "Python program to parse PL/1 and COBOL programs and extract subroutine calls"
   ]
  },
  {
   "cell_type": "code",
   "execution_count": 325,
   "metadata": {},
   "outputs": [],
   "source": [
    "# step 1 : Read first/next module name from an excel file\n",
    "# step 2 : Detect language\n",
    "# step 3 : Find subroutines for PLI_BATCH, PLI_ONLINE, PLI_SLC, COB-BATCH, COB-ONLINE\n",
    "# step 4 : Append module names to the excel file\n",
    "# step 5 : Goto step 1 (until end of file)\n",
    "# step 6 : Generate report (a.all modules list and b.tree structure of modules and subroutines)"
   ]
  },
  {
   "cell_type": "code",
   "execution_count": 326,
   "metadata": {},
   "outputs": [],
   "source": [
    "file_name = 'C:\\\\Users\\\\raVan\\\\MainframeParser\\\\PLIsample.txt'"
   ]
  },
  {
   "cell_type": "code",
   "execution_count": 327,
   "metadata": {},
   "outputs": [],
   "source": [
    "# 1. Detect language (PLI / COBOL), MODE (BATCH / ONLINE / SLC)\n",
    "\n",
    "def detect_language():\n",
    "    print('# entered detect_language()')\n",
    "    # respective flags for above mentioned detections\n",
    "    COB_PGM_FLG = 'N'\n",
    "    PLI_PGM_FLG = 'N'\n",
    "    BAT_PGM_FLG = 'N'\n",
    "    ONL_PGM_FLG = 'N'\n",
    "    SLC_PGM_FLG = 'N'\n",
    "\n",
    "    #print('COB_PGM_FLG | PLI_PGM_FLG | BAT_PGM_FLG | ONL_PGM_FLG | SLC_PGM_FLG') \n",
    "    #print('     ',COB_PGM_FLG,'          ',PLI_PGM_FLG,'           ',BAT_PGM_FLG,'           ',ONL_PGM_FLG,'           ',SLC_PGM_FLG) \n",
    "\n",
    "    \n",
    "    with open(file_name,'r') as f:\n",
    "        for line in f:\n",
    "            if 'IDENTIFICATION DIVISION.' in line or 'PROCEDURE DIVISION.' in line:\n",
    "                COB_PGM_FLG = 'Y'\n",
    "            if 'DCL' in line or 'PUT SKIP' in line:\n",
    "                PLI_PGM_FLG = 'Y'    \n",
    "            if 'SSBCICS_SW' in line:\n",
    "                SLC_PGM_FLG = 'Y'\n",
    "            if 'EXEC CICS LINK' in line or 'EXEC CICS LOAD' in line or 'EXEC CICS XCTL' in line:\n",
    "                ONL_PGM_FLG = 'Y'\n",
    "            else:\n",
    "                BAT_PGM_FLG = 'Y'\n",
    "            \n",
    "    print('COB_PGM_FLG | PLI_PGM_FLG | BAT_PGM_FLG | ONL_PGM_FLG | SLC_PGM_FLG') \n",
    "    print('     ',COB_PGM_FLG,'          ',PLI_PGM_FLG,'           ',BAT_PGM_FLG,'           ',ONL_PGM_FLG,'           ',SLC_PGM_FLG) \n",
    "    \n",
    "    find_subs(COB_PGM_FLG,PLI_PGM_FLG,BAT_PGM_FLG,ONL_PGM_FLG,SLC_PGM_FLG)"
   ]
  },
  {
   "cell_type": "code",
   "execution_count": 328,
   "metadata": {},
   "outputs": [],
   "source": [
    "def find_subs(COB_PGM_FLG,PLI_PGM_FLG,BAT_PGM_FLG,ONL_PGM_FLG,SLC_PGM_FLG):\n",
    "    print('# entered find_subs()')\n",
    "    count=0\n",
    "    module_list = []\n",
    "\n",
    "    with open(file_name,'r') as f:\n",
    "        for line in f:\n",
    "            if PLI_PGM_FLG == 'Y' and BAT_PGM_FLG == 'Y' :      \n",
    "                # entries in PLI BATCH program\n",
    "                if 'ENTRY' in line and 'DCL' in line :\n",
    "                        print(line)\n",
    "                        module_name = list(line.split())\n",
    "                        module_name = module_name[module_name.index('DCL') + 1]\n",
    "                        module_list.append(module_name)\n",
    "            if COB_PGM_FLG == 'Y' and BAT_PGM_FLG == 'Y' :      \n",
    "                # calls in COBOL BATCH program\n",
    "                if 'CALL' in line and 'USING' in line :\n",
    "                        print(line)\n",
    "                        module_name = list(line.split())\n",
    "                        module_name = module_name[module_name.index('CALL') + 1]\n",
    "                        module_name = module_name.replace(\"'\",\"\")\n",
    "                        module_list.append(module_name)\n",
    "            if (PLI_PGM_FLG == 'Y' and ONL_PGM_FLG == 'Y') or (COB_PGM_FLG == 'Y' and ONL_PGM_FLG == 'Y') :      \n",
    "                # calls in COBOL / PLI online program\n",
    "                if 'EXEC CICS' in line and 'PROGRAM' in line :\n",
    "                        print(line)\n",
    "                        module_name = list(line.split())\n",
    "                        module_name = module_name[module_name.index('PROGRAM') + 1]\n",
    "                        module_name = module_name.replace(\"'\",\"\")\n",
    "                        module_name = module_name.replace('(','')\n",
    "                        module_name = module_name.replace(')','')\n",
    "                        module_list.append(module_name)\n",
    "\n",
    "                count+=1\n",
    "        \n",
    "    print('Total lines in input program :',count)\n",
    "    print(module_list)"
   ]
  },
  {
   "cell_type": "code",
   "execution_count": 329,
   "metadata": {},
   "outputs": [
    {
     "name": "stdout",
     "output_type": "stream",
     "text": [
      "# entered detect_language()\n",
      "COB_PGM_FLG | PLI_PGM_FLG | BAT_PGM_FLG | ONL_PGM_FLG | SLC_PGM_FLG\n",
      "      N            Y             Y             N             N\n",
      "# entered find_subs()\n",
      " DCL GIMAPI ENTRY(CHAR(8),PTR,PTR,CHAR(3),FIXED BIN(31),\n",
      "\n",
      " DCL ABCDEFGH                ENTRY(*)\n",
      "\n",
      " DCL IJKLMNOP         ENTRY(*)\n",
      "\n",
      " DCL LMNOPQRS    ENTRY(*)\n",
      "\n",
      " DCL ENTRYSTR   CHAR(100);\n",
      "\n",
      "  DCL CURENTRY    POINTER;\n",
      "\n",
      "Total lines in input program : 0\n",
      "['GIMAPI', 'ABCDEFGH', 'IJKLMNOP', 'LMNOPQRS', 'ENTRYSTR', 'CURENTRY']\n"
     ]
    }
   ],
   "source": [
    "detect_language()"
   ]
  },
  {
   "cell_type": "code",
   "execution_count": null,
   "metadata": {},
   "outputs": [],
   "source": []
  },
  {
   "cell_type": "code",
   "execution_count": null,
   "metadata": {},
   "outputs": [],
   "source": []
  },
  {
   "cell_type": "code",
   "execution_count": null,
   "metadata": {},
   "outputs": [],
   "source": []
  }
 ],
 "metadata": {
  "kernelspec": {
   "display_name": "Python 3",
   "language": "python",
   "name": "python3"
  },
  "language_info": {
   "codemirror_mode": {
    "name": "ipython",
    "version": 3
   },
   "file_extension": ".py",
   "mimetype": "text/x-python",
   "name": "python",
   "nbconvert_exporter": "python",
   "pygments_lexer": "ipython3",
   "version": "3.7.3"
  }
 },
 "nbformat": 4,
 "nbformat_minor": 4
}
